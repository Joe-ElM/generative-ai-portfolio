{
 "cells": [
  {
   "cell_type": "markdown",
   "id": "124e5672",
   "metadata": {},
   "source": [
    "# Custom Chatbot Project"
   ]
  },
  {
   "cell_type": "markdown",
   "id": "2a4a94b3",
   "metadata": {},
   "source": [
    "# Character Description Query System\n",
    "\n",
    "## Project Objective\n",
    "Develop a semantic embedding-based query system for unique character descriptions using machine learning techniques.\n",
    "\n",
    "## Dataset\n",
    "- Source: `character_descriptions.csv`\n",
    "- Content: AI-generated character descriptions from various media productions\n",
    "\n",
    "## Key Technical Approach\n",
    "- Semantic embedding generation\n",
    "- Contextual relevance retrieval\n",
    "- Custom prompt engineering"
   ]
  },
  {
   "cell_type": "markdown",
   "id": "158fd320",
   "metadata": {},
   "source": [
    "## Dataset Selection Rationale\n",
    "\n",
    "The chosen dataset of AI-generated character descriptions offers a unique challenge for developing an advanced query system. By using artificially created characters not present in standard language model knowledge bases, we can:\n",
    "\n",
    "- Test semantic embedding effectiveness\n",
    "- Demonstrate context retrieval capabilities\n",
    "- Showcase how custom prompting can enhance language model responses"
   ]
  },
  {
   "cell_type": "code",
   "execution_count": 1,
   "id": "b8c15441",
   "metadata": {},
   "outputs": [],
   "source": [
    "import pandas as pd\n",
    "import numpy  as np\n",
    "import re\n",
    "import ast\n",
    "import openai\n",
    "from   openai.embeddings_utils import get_embedding, distances_from_embeddings"
   ]
  },
  {
   "cell_type": "code",
   "execution_count": 2,
   "id": "4f690860",
   "metadata": {},
   "outputs": [],
   "source": [
    "openai.api_base = \"https://openai.vocareum.com/v1\"\n",
    "openai.api_key  = \"OpenAI API KEY\""
   ]
  },
  {
   "cell_type": "code",
   "execution_count": 3,
   "id": "ddab1259",
   "metadata": {},
   "outputs": [
    {
     "data": {
      "text/html": [
       "<div>\n",
       "<style scoped>\n",
       "    .dataframe tbody tr th:only-of-type {\n",
       "        vertical-align: middle;\n",
       "    }\n",
       "\n",
       "    .dataframe tbody tr th {\n",
       "        vertical-align: top;\n",
       "    }\n",
       "\n",
       "    .dataframe thead th {\n",
       "        text-align: right;\n",
       "    }\n",
       "</style>\n",
       "<table border=\"1\" class=\"dataframe\">\n",
       "  <thead>\n",
       "    <tr style=\"text-align: right;\">\n",
       "      <th></th>\n",
       "      <th>Name</th>\n",
       "      <th>Description</th>\n",
       "      <th>Medium</th>\n",
       "      <th>Setting</th>\n",
       "    </tr>\n",
       "  </thead>\n",
       "  <tbody>\n",
       "    <tr>\n",
       "      <th>0</th>\n",
       "      <td>Emily</td>\n",
       "      <td>A young woman in her early 20s, Emily is an aspiring actress and Alice's daughter. She has a bubbly personality and a quick wit, but struggles with self-doubt and insecurity. She's also in a relationship with George.</td>\n",
       "      <td>Play</td>\n",
       "      <td>England</td>\n",
       "    </tr>\n",
       "    <tr>\n",
       "      <th>1</th>\n",
       "      <td>Jack</td>\n",
       "      <td>A middle-aged man in his 40s, Jack is a successful businessman and Sarah's boss. He has a no-nonsense attitude, but is fiercely loyal to his friends and family. He's married to Alice.</td>\n",
       "      <td>Play</td>\n",
       "      <td>England</td>\n",
       "    </tr>\n",
       "    <tr>\n",
       "      <th>2</th>\n",
       "      <td>Alice</td>\n",
       "      <td>A woman in her late 30s, Alice is a warm and nurturing mother of two, including Emily. She's kind-hearted and empathetic, but can be overly protective of her children and prone to worrying. She's married to Jack.</td>\n",
       "      <td>Play</td>\n",
       "      <td>England</td>\n",
       "    </tr>\n",
       "    <tr>\n",
       "      <th>3</th>\n",
       "      <td>Tom</td>\n",
       "      <td>A man in his 50s, Tom is a retired soldier and John's son. He has a no-nonsense approach to life, but is haunted by his experiences in combat and struggles with PTSD. He's also in a relationship with Rachel.</td>\n",
       "      <td>Play</td>\n",
       "      <td>England</td>\n",
       "    </tr>\n",
       "    <tr>\n",
       "      <th>4</th>\n",
       "      <td>Sarah</td>\n",
       "      <td>A woman in her mid-20s, Sarah is a free-spirited artist and Jack's employee. She's creative, unconventional, and passionate about her work. However, she can also be flighty and impulsive at times.</td>\n",
       "      <td>Play</td>\n",
       "      <td>England</td>\n",
       "    </tr>\n",
       "  </tbody>\n",
       "</table>\n",
       "</div>"
      ],
      "text/plain": [
       "    Name  \\\n",
       "0  Emily   \n",
       "1   Jack   \n",
       "2  Alice   \n",
       "3    Tom   \n",
       "4  Sarah   \n",
       "\n",
       "                                                                                                                                                                                                                Description  \\\n",
       "0  A young woman in her early 20s, Emily is an aspiring actress and Alice's daughter. She has a bubbly personality and a quick wit, but struggles with self-doubt and insecurity. She's also in a relationship with George.   \n",
       "1                                   A middle-aged man in his 40s, Jack is a successful businessman and Sarah's boss. He has a no-nonsense attitude, but is fiercely loyal to his friends and family. He's married to Alice.   \n",
       "2      A woman in her late 30s, Alice is a warm and nurturing mother of two, including Emily. She's kind-hearted and empathetic, but can be overly protective of her children and prone to worrying. She's married to Jack.   \n",
       "3           A man in his 50s, Tom is a retired soldier and John's son. He has a no-nonsense approach to life, but is haunted by his experiences in combat and struggles with PTSD. He's also in a relationship with Rachel.   \n",
       "4                      A woman in her mid-20s, Sarah is a free-spirited artist and Jack's employee. She's creative, unconventional, and passionate about her work. However, she can also be flighty and impulsive at times.   \n",
       "\n",
       "  Medium  Setting  \n",
       "0   Play  England  \n",
       "1   Play  England  \n",
       "2   Play  England  \n",
       "3   Play  England  \n",
       "4   Play  England  "
      ]
     },
     "execution_count": 3,
     "metadata": {},
     "output_type": "execute_result"
    }
   ],
   "source": [
    "pd.set_option('display.max_colwidth', None)\n",
    "# ===========================================\n",
    "data_path = \"data/character_descriptions.csv\"\n",
    "df        = pd.read_csv(data_path)\n",
    "df.head(5)"
   ]
  },
  {
   "cell_type": "markdown",
   "id": "22eac751",
   "metadata": {},
   "source": [
    "## Data Wrangling\n",
    "\n",
    "### Data Preparation Objectives\n",
    "\n",
    "- Transform raw character data into embedding-ready format\n",
    "- Create comprehensive text representations\n",
    "- Prepare for semantic search and contextual query processing"
   ]
  },
  {
   "cell_type": "code",
   "execution_count": 4,
   "id": "e9349d1f",
   "metadata": {},
   "outputs": [
    {
     "data": {
      "text/html": [
       "<div>\n",
       "<style scoped>\n",
       "    .dataframe tbody tr th:only-of-type {\n",
       "        vertical-align: middle;\n",
       "    }\n",
       "\n",
       "    .dataframe tbody tr th {\n",
       "        vertical-align: top;\n",
       "    }\n",
       "\n",
       "    .dataframe thead th {\n",
       "        text-align: right;\n",
       "    }\n",
       "</style>\n",
       "<table border=\"1\" class=\"dataframe\">\n",
       "  <thead>\n",
       "    <tr style=\"text-align: right;\">\n",
       "      <th></th>\n",
       "      <th>text</th>\n",
       "    </tr>\n",
       "  </thead>\n",
       "  <tbody>\n",
       "    <tr>\n",
       "      <th>42</th>\n",
       "      <td>Malvolio, residing in Ancient Greece, who performs in a Play, A pompous and self-righteous steward in Lady Olivia's household. Malvolio is humorless and uptight, and is often the target of Sir Toby Belch's pranks. He is secretly in love with Lady Olivia and harbors dreams of marrying her.</td>\n",
       "    </tr>\n",
       "    <tr>\n",
       "      <th>13</th>\n",
       "      <td>Will, residing in Texas, who performs in a Movie, A white man in his early 40s, Will is a successful businessman who's come back to his hometown after many years away. He's confident, charming, and knows how to get what he wants. However, he's also hiding a dark secret from his past that threatens to destroy everything he's worked for.</td>\n",
       "    </tr>\n",
       "    <tr>\n",
       "      <th>14</th>\n",
       "      <td>Mia, residing in Australia, who performs in a Limited Series, A young Australian woman in her mid-20s, Mia is a driven and ambitious lawyer who's just landed her dream job at a top law firm in Sydney. She's the younger sister of Max, a former soldier who's struggling with PTSD, and is trying to help him navigate his challenges while also balancing her demanding career.</td>\n",
       "    </tr>\n",
       "    <tr>\n",
       "      <th>45</th>\n",
       "      <td>Bianca, residing in Ancient Greece, who performs in a Play, Lady Olivia's cunning and quick-witted maid. Bianca is a master of mischief and pranks, and often collaborates with Sir Toby Belch to torment Malvolio. She is also secretly in love with Sir Toby.</td>\n",
       "    </tr>\n",
       "    <tr>\n",
       "      <th>48</th>\n",
       "      <td>Antonio, residing in Ancient Greece, who performs in a Play, A sea captain who rescues Sebastian from the shipwreck. Antonio becomes devoted to Sebastian and follows him to Illyria, despite the danger it poses to himself.</td>\n",
       "    </tr>\n",
       "  </tbody>\n",
       "</table>\n",
       "</div>"
      ],
      "text/plain": [
       "                                                                                                                                                                                                                                                                                                                                                                                   text\n",
       "42                                                                                    Malvolio, residing in Ancient Greece, who performs in a Play, A pompous and self-righteous steward in Lady Olivia's household. Malvolio is humorless and uptight, and is often the target of Sir Toby Belch's pranks. He is secretly in love with Lady Olivia and harbors dreams of marrying her.\n",
       "13                                    Will, residing in Texas, who performs in a Movie, A white man in his early 40s, Will is a successful businessman who's come back to his hometown after many years away. He's confident, charming, and knows how to get what he wants. However, he's also hiding a dark secret from his past that threatens to destroy everything he's worked for.\n",
       "14  Mia, residing in Australia, who performs in a Limited Series, A young Australian woman in her mid-20s, Mia is a driven and ambitious lawyer who's just landed her dream job at a top law firm in Sydney. She's the younger sister of Max, a former soldier who's struggling with PTSD, and is trying to help him navigate his challenges while also balancing her demanding career.\n",
       "45                                                                                                                      Bianca, residing in Ancient Greece, who performs in a Play, Lady Olivia's cunning and quick-witted maid. Bianca is a master of mischief and pranks, and often collaborates with Sir Toby Belch to torment Malvolio. She is also secretly in love with Sir Toby.\n",
       "48                                                                                                                                                        Antonio, residing in Ancient Greece, who performs in a Play, A sea captain who rescues Sebastian from the shipwreck. Antonio becomes devoted to Sebastian and follows him to Illyria, despite the danger it poses to himself."
      ]
     },
     "execution_count": 4,
     "metadata": {},
     "output_type": "execute_result"
    }
   ],
   "source": [
    "df['text'] = df['Name'] + ', residing in ' + df['Setting'] + ', who performs in a ' + df['Medium'] + ', ' + df['Description']\n",
    "df[['text']].sample(5)"
   ]
  },
  {
   "cell_type": "markdown",
   "id": "1f1fa136",
   "metadata": {},
   "source": [
    "## Semantic Embedding Generation\n",
    "\n",
    "- Utilizing OpenAI's text-embedding-ada-002 model\n",
    "- Converting character descriptions into high-dimensional vector representations\n",
    "- Enabling semantic similarity comparisons"
   ]
  },
  {
   "cell_type": "code",
   "execution_count": 5,
   "id": "b35b28b3",
   "metadata": {},
   "outputs": [
    {
     "name": "stdout",
     "output_type": "stream",
     "text": [
      "Prompt1: What is Donna's character?\n",
      "Donna's character can be described as a larger-than-life and confident performer who exudes a diva-like personality on stage. She is also a mentor and guide to help others improve their craft.\n",
      "\n",
      "Prompt2: In what setting does Donna's story take place?\n",
      "It is likely that Donna's story takes place in the world of performance or entertainment, specifically in a theatrical or musical setting. This could include Broadway, a concert tour, or a drag show.\n",
      "\n",
      "=============================================\n",
      "Prompt1: What is Thomas's character?\n",
      "Thomas's character is charming and playful, with a good sense of humor and a willingness to go along with his friend's schemes. He brings a lighthearted energy to the group and is well-liked by his coworkers.\n",
      "\n",
      "Prompt2: In what setting does Thomas's story take place?\n",
      "Thomas's story likely takes place in a medieval or fantasy tavern setting.\n",
      "\n",
      "=============================================\n"
     ]
    }
   ],
   "source": [
    "sampled_df = df.sample(2).reset_index(drop=True)\n",
    "\n",
    "for _, row in sampled_df.iterrows():\n",
    "    character = row['Name']\n",
    "    prompt1   = f\"What is {character}'s character?\"\n",
    "    prompt2   = f\"In what setting does {character}'s story take place?\"\n",
    "\n",
    "    print(f'Prompt1: {prompt1}')\n",
    "    answer1   = openai.Completion.create(\n",
    "                                        model      = \"gpt-3.5-turbo-instruct\",\n",
    "                                        prompt     = f\"Based on this description: {row['Description']}, {prompt1}\",\n",
    "                                        max_tokens = 100\n",
    "                                       )[\"choices\"][0][\"text\"].strip()\n",
    "    print(answer1)\n",
    "\n",
    "    \n",
    "    print(f'\\nPrompt2: {prompt2}')\n",
    "    answer2   = openai.Completion.create(\n",
    "                                         model      = \"gpt-3.5-turbo-instruct\",\n",
    "                                         prompt     = f\"Based on this description: {row['Description']}, {prompt2}\",\n",
    "                                         max_tokens = 100\n",
    "                                        )[\"choices\"][0][\"text\"].strip()\n",
    "    print(answer2 + '\\n')\n",
    "    print(\"=============================================\")"
   ]
  },
  {
   "cell_type": "markdown",
   "id": "ae769871",
   "metadata": {},
   "source": [
    "## Semantic Embedding Generation\n",
    "\n",
    "### Objective\n",
    "- Convert text descriptions to high-dimensional vector representations\n",
    "- Prepare data for semantic similarity search"
   ]
  },
  {
   "cell_type": "code",
   "execution_count": 6,
   "id": "582f0656",
   "metadata": {},
   "outputs": [],
   "source": [
    "response         = openai.Embedding.create(input  = df[\"text\"].tolist(), \n",
    "                                           engine = \"text-embedding-ada-002\")\n",
    "\n",
    "embeddings       = [data[\"embedding\"] for data in response[\"data\"]]\n",
    "df[\"embeddings\"] = embeddings"
   ]
  },
  {
   "cell_type": "code",
   "execution_count": 7,
   "id": "5717d8e1",
   "metadata": {},
   "outputs": [
    {
     "name": "stdout",
     "output_type": "stream",
     "text": [
      "<class 'list'>\n",
      "[-0.012010179460048676, -0.01708943024277687, -0.008300396613776684, -0.024174664169549942, -0.03551618382334709]\n"
     ]
    }
   ],
   "source": [
    "print(type(df['embeddings'].iloc[0]))\n",
    "print(df['embeddings'].iloc[0][:5])  # First 5 elements\n"
   ]
  },
  {
   "cell_type": "code",
   "execution_count": 8,
   "id": "36f65ef6",
   "metadata": {},
   "outputs": [
    {
     "data": {
      "text/html": [
       "<div>\n",
       "<style scoped>\n",
       "    .dataframe tbody tr th:only-of-type {\n",
       "        vertical-align: middle;\n",
       "    }\n",
       "\n",
       "    .dataframe tbody tr th {\n",
       "        vertical-align: top;\n",
       "    }\n",
       "\n",
       "    .dataframe thead th {\n",
       "        text-align: right;\n",
       "    }\n",
       "</style>\n",
       "<table border=\"1\" class=\"dataframe\">\n",
       "  <thead>\n",
       "    <tr style=\"text-align: right;\">\n",
       "      <th></th>\n",
       "      <th>text</th>\n",
       "      <th>embeddings</th>\n",
       "    </tr>\n",
       "  </thead>\n",
       "  <tbody>\n",
       "    <tr>\n",
       "      <th>0</th>\n",
       "      <td>Emily, residing in England, who performs in a Play, A young woman in her early 20s, Emily is an aspiring actress and Alice's daughter. She has a bubbly personality and a quick wit, but struggles with self-doubt and insecurity. She's also in a relationship with George.</td>\n",
       "      <td>[-0.012010179460048676, -0.01708943024277687, -0.008300396613776684, -0.024174664169549942, -0.03551618382334709, 0.030269766226410866, -0.011727283708751202, 0.02576916292309761, -0.0065965973772108555, -0.012781711295247078, -0.005583961494266987, -0.007593159098178148, 0.015032012015581131, -...</td>\n",
       "    </tr>\n",
       "    <tr>\n",
       "      <th>1</th>\n",
       "      <td>Jack, residing in England, who performs in a Play, A middle-aged man in his 40s, Jack is a successful businessman and Sarah's boss. He has a no-nonsense attitude, but is fiercely loyal to his friends and family. He's married to Alice.</td>\n",
       "      <td>[0.013250970281660557, -0.02648891881108284, 0.002238339511677623, -0.03300045058131218, -0.02852051705121994, 0.021058298647403717, -0.009389631450176239, 0.010737518779933453, 0.005525036249309778, -0.007384079042822123, 0.0029432130977511406, 0.006928271614015102, 0.009936599992215633, -0.009...</td>\n",
       "    </tr>\n",
       "    <tr>\n",
       "      <th>2</th>\n",
       "      <td>Alice, residing in England, who performs in a Play, A woman in her late 30s, Alice is a warm and nurturing mother of two, including Emily. She's kind-hearted and empathetic, but can be overly protective of her children and prone to worrying. She's married to Jack.</td>\n",
       "      <td>[0.006659980397671461, -0.013561666943132877, -0.015978727489709854, -0.03441371023654938, -0.03731418028473854, 0.035093098878860474, -0.009380806237459183, 0.026117313653230667, 0.0023027395363897085, -0.014606881886720657, -0.008368253707885742, 0.004883114714175463, 0.006153704132884741, -0....</td>\n",
       "    </tr>\n",
       "  </tbody>\n",
       "</table>\n",
       "</div>"
      ],
      "text/plain": [
       "                                                                                                                                                                                                                                                                           text  \\\n",
       "0  Emily, residing in England, who performs in a Play, A young woman in her early 20s, Emily is an aspiring actress and Alice's daughter. She has a bubbly personality and a quick wit, but struggles with self-doubt and insecurity. She's also in a relationship with George.   \n",
       "1                                    Jack, residing in England, who performs in a Play, A middle-aged man in his 40s, Jack is a successful businessman and Sarah's boss. He has a no-nonsense attitude, but is fiercely loyal to his friends and family. He's married to Alice.   \n",
       "2      Alice, residing in England, who performs in a Play, A woman in her late 30s, Alice is a warm and nurturing mother of two, including Emily. She's kind-hearted and empathetic, but can be overly protective of her children and prone to worrying. She's married to Jack.   \n",
       "\n",
       "                                                                                                                                                                                                                                                                                                    embeddings  \n",
       "0  [-0.012010179460048676, -0.01708943024277687, -0.008300396613776684, -0.024174664169549942, -0.03551618382334709, 0.030269766226410866, -0.011727283708751202, 0.02576916292309761, -0.0065965973772108555, -0.012781711295247078, -0.005583961494266987, -0.007593159098178148, 0.015032012015581131, -...  \n",
       "1  [0.013250970281660557, -0.02648891881108284, 0.002238339511677623, -0.03300045058131218, -0.02852051705121994, 0.021058298647403717, -0.009389631450176239, 0.010737518779933453, 0.005525036249309778, -0.007384079042822123, 0.0029432130977511406, 0.006928271614015102, 0.009936599992215633, -0.009...  \n",
       "2  [0.006659980397671461, -0.013561666943132877, -0.015978727489709854, -0.03441371023654938, -0.03731418028473854, 0.035093098878860474, -0.009380806237459183, 0.026117313653230667, 0.0023027395363897085, -0.014606881886720657, -0.008368253707885742, 0.004883114714175463, 0.006153704132884741, -0....  "
      ]
     },
     "execution_count": 8,
     "metadata": {},
     "output_type": "execute_result"
    }
   ],
   "source": [
    "pd.set_option('display.max_colwidth', 300)\n",
    "# ========================================\n",
    "df[\"embeddings\"] = df[\"embeddings\"].apply(np.array)\n",
    "df               = df[['text', 'embeddings']]\n",
    "df[['text', 'embeddings']].head(3)"
   ]
  },
  {
   "cell_type": "code",
   "execution_count": 9,
   "id": "13f2dcd7",
   "metadata": {},
   "outputs": [],
   "source": [
    "df.to_csv('DataFrame_With_Embeddings.csv')"
   ]
  },
  {
   "cell_type": "code",
   "execution_count": 10,
   "id": "c403f543",
   "metadata": {},
   "outputs": [],
   "source": [
    "# df = pd.read_csv(\"DataFrame_With_Embeddings.csv\", index_col=0)\n",
    "# df[\"embeddings\"] = df[\"embeddings\"].apply(eval).apply(np.array)\n",
    "# df = df[[\"text\", \"embeddings\"]]\n",
    "# df.head()"
   ]
  },
  {
   "cell_type": "markdown",
   "id": "f4f5000c",
   "metadata": {},
   "source": [
    "## Semantic Relevance Ranking Function\n",
    "\n",
    "### Purpose\n",
    "- Find most relevant text for a given question\n",
    "- Use semantic similarity via embeddings\n",
    "- Rank text by cosine distance\n",
    "\n",
    "### Key Components\n",
    "- Convert question to embedding\n",
    "- Calculate embedding distances\n",
    "- Sort DataFrame by relevance"
   ]
  },
  {
   "cell_type": "code",
   "execution_count": 11,
   "id": "c88e2621",
   "metadata": {},
   "outputs": [],
   "source": [
    "def get_rows_sorted_by_relevance(question, df):\n",
    "    \n",
    "    \"\"\" This function finds the most relevant text for a question \n",
    "        by comparing semantic similarity via embeddings. It returns \n",
    "        the dataframe sorted by relevance (most relevant first).    \"\"\"\n",
    "    \n",
    "    question_embeddings = get_embedding(question, engine = \"text-embedding-ada-002\")\n",
    "    \n",
    "    # Calculate distances efficiently and sort\n",
    "    df_copy = df.copy()\n",
    "    df_copy[\"distances\"] = distances_from_embeddings(\n",
    "                                                    question_embeddings,\n",
    "                                                    df_copy[\"embeddings\"].values,\n",
    "                                                    distance_metric = \"cosine\"\n",
    "                                                    )\n",
    "    \n",
    "    return df_copy.sort_values(\"distances\", ascending=True)\n",
    "    "
   ]
  },
  {
   "cell_type": "code",
   "execution_count": 12,
   "id": "e7606b79",
   "metadata": {},
   "outputs": [],
   "source": [
    "#df['embeddings'][0].shape"
   ]
  },
  {
   "cell_type": "code",
   "execution_count": 13,
   "id": "ecdbe450",
   "metadata": {},
   "outputs": [
    {
     "data": {
      "text/html": [
       "<div>\n",
       "<style scoped>\n",
       "    .dataframe tbody tr th:only-of-type {\n",
       "        vertical-align: middle;\n",
       "    }\n",
       "\n",
       "    .dataframe tbody tr th {\n",
       "        vertical-align: top;\n",
       "    }\n",
       "\n",
       "    .dataframe thead th {\n",
       "        text-align: right;\n",
       "    }\n",
       "</style>\n",
       "<table border=\"1\" class=\"dataframe\">\n",
       "  <thead>\n",
       "    <tr style=\"text-align: right;\">\n",
       "      <th></th>\n",
       "      <th>text</th>\n",
       "      <th>embeddings</th>\n",
       "      <th>distances</th>\n",
       "    </tr>\n",
       "  </thead>\n",
       "  <tbody>\n",
       "    <tr>\n",
       "      <th>1</th>\n",
       "      <td>Jack, residing in England, who performs in a Play, A middle-aged man in his 40s, Jack is a successful businessman and Sarah's boss. He has a no-nonsense attitude, but is fiercely loyal to his friends and family. He's married to Alice.</td>\n",
       "      <td>[0.013250970281660557, -0.02648891881108284, 0.002238339511677623, -0.03300045058131218, -0.02852051705121994, 0.021058298647403717, -0.009389631450176239, 0.010737518779933453, 0.005525036249309778, -0.007384079042822123, 0.0029432130977511406, 0.006928271614015102, 0.009936599992215633, -0.009...</td>\n",
       "      <td>0.140983</td>\n",
       "    </tr>\n",
       "    <tr>\n",
       "      <th>4</th>\n",
       "      <td>Sarah, residing in England, who performs in a Play, A woman in her mid-20s, Sarah is a free-spirited artist and Jack's employee. She's creative, unconventional, and passionate about her work. However, she can also be flighty and impulsive at times.</td>\n",
       "      <td>[-0.007598050870001316, -0.029405105859041214, -0.00887738075107336, -0.01937827654182911, -0.03052208572626114, 0.010396990925073624, -0.024911217391490936, 0.013338800519704819, -0.01844313181936741, -0.011812696233391762, 0.010585319250822067, 0.007909765467047691, 0.008046140894293785, -0.01...</td>\n",
       "      <td>0.181321</td>\n",
       "    </tr>\n",
       "    <tr>\n",
       "      <th>7</th>\n",
       "      <td>John, residing in England, who performs in a Play, A man in his 60s, John is a retired professor and Tom's father. He has a dry wit and a love of intellectual debate, but can also be stubborn and set in his ways.</td>\n",
       "      <td>[0.020502500236034393, -0.016809985041618347, -0.019650381058454514, -0.026880482211709023, -0.020076440647244453, 0.04183129593729973, -0.012878617271780968, 0.025331174954771996, -0.033413395285606384, -0.0002644716005306691, -0.002861376851797104, 0.016009509563446045, 0.016616320237517357, 0...</td>\n",
       "      <td>0.195270</td>\n",
       "    </tr>\n",
       "  </tbody>\n",
       "</table>\n",
       "</div>"
      ],
      "text/plain": [
       "                                                                                                                                                                                                                                                       text  \\\n",
       "1                Jack, residing in England, who performs in a Play, A middle-aged man in his 40s, Jack is a successful businessman and Sarah's boss. He has a no-nonsense attitude, but is fiercely loyal to his friends and family. He's married to Alice.   \n",
       "4  Sarah, residing in England, who performs in a Play, A woman in her mid-20s, Sarah is a free-spirited artist and Jack's employee. She's creative, unconventional, and passionate about her work. However, she can also be flighty and impulsive at times.   \n",
       "7                                      John, residing in England, who performs in a Play, A man in his 60s, John is a retired professor and Tom's father. He has a dry wit and a love of intellectual debate, but can also be stubborn and set in his ways.   \n",
       "\n",
       "                                                                                                                                                                                                                                                                                                    embeddings  \\\n",
       "1  [0.013250970281660557, -0.02648891881108284, 0.002238339511677623, -0.03300045058131218, -0.02852051705121994, 0.021058298647403717, -0.009389631450176239, 0.010737518779933453, 0.005525036249309778, -0.007384079042822123, 0.0029432130977511406, 0.006928271614015102, 0.009936599992215633, -0.009...   \n",
       "4  [-0.007598050870001316, -0.029405105859041214, -0.00887738075107336, -0.01937827654182911, -0.03052208572626114, 0.010396990925073624, -0.024911217391490936, 0.013338800519704819, -0.01844313181936741, -0.011812696233391762, 0.010585319250822067, 0.007909765467047691, 0.008046140894293785, -0.01...   \n",
       "7  [0.020502500236034393, -0.016809985041618347, -0.019650381058454514, -0.026880482211709023, -0.020076440647244453, 0.04183129593729973, -0.012878617271780968, 0.025331174954771996, -0.033413395285606384, -0.0002644716005306691, -0.002861376851797104, 0.016009509563446045, 0.016616320237517357, 0...   \n",
       "\n",
       "   distances  \n",
       "1   0.140983  \n",
       "4   0.181321  \n",
       "7   0.195270  "
      ]
     },
     "execution_count": 13,
     "metadata": {},
     "output_type": "execute_result"
    }
   ],
   "source": [
    "question1 = \"What is Jack's profession?\"\n",
    "sorted_df1 = get_rows_sorted_by_relevance(question1, df)\n",
    "sorted_df1.head(3)"
   ]
  },
  {
   "cell_type": "code",
   "execution_count": 14,
   "id": "71b1ef14",
   "metadata": {},
   "outputs": [
    {
     "data": {
      "text/html": [
       "<div>\n",
       "<style scoped>\n",
       "    .dataframe tbody tr th:only-of-type {\n",
       "        vertical-align: middle;\n",
       "    }\n",
       "\n",
       "    .dataframe tbody tr th {\n",
       "        vertical-align: top;\n",
       "    }\n",
       "\n",
       "    .dataframe thead th {\n",
       "        text-align: right;\n",
       "    }\n",
       "</style>\n",
       "<table border=\"1\" class=\"dataframe\">\n",
       "  <thead>\n",
       "    <tr style=\"text-align: right;\">\n",
       "      <th></th>\n",
       "      <th>text</th>\n",
       "      <th>embeddings</th>\n",
       "      <th>distances</th>\n",
       "    </tr>\n",
       "  </thead>\n",
       "  <tbody>\n",
       "    <tr>\n",
       "      <th>0</th>\n",
       "      <td>Emily, residing in England, who performs in a Play, A young woman in her early 20s, Emily is an aspiring actress and Alice's daughter. She has a bubbly personality and a quick wit, but struggles with self-doubt and insecurity. She's also in a relationship with George.</td>\n",
       "      <td>[-0.012010179460048676, -0.01708943024277687, -0.008300396613776684, -0.024174664169549942, -0.03551618382334709, 0.030269766226410866, -0.011727283708751202, 0.02576916292309761, -0.0065965973772108555, -0.012781711295247078, -0.005583961494266987, -0.007593159098178148, 0.015032012015581131, -...</td>\n",
       "      <td>0.214187</td>\n",
       "    </tr>\n",
       "    <tr>\n",
       "      <th>53</th>\n",
       "      <td>Mrs. Mercer, residing in USA, who performs in a Sitcom, The matriarch of the wealthiest family in Williamsburg. Mrs. Mercer is a bit of a snob and enjoys reminding everyone of her social standing. She often hires Abigail to work in her home and is very demanding.</td>\n",
       "      <td>[-0.015823304653167725, -0.014490398578345776, -0.012359069660305977, -0.03286074101924896, 0.015585756860673428, 0.031145120039582253, -0.007680702954530716, 0.001680978573858738, -0.01834394782781601, -0.02715959958732128, 0.014925902709364891, 0.005249140318483114, 0.006578746717423201, -0.00...</td>\n",
       "      <td>0.215965</td>\n",
       "    </tr>\n",
       "    <tr>\n",
       "      <th>8</th>\n",
       "      <td>Maria, residing in Texas, who performs in a Movie, A middle-aged Latina woman in her 40s, Maria is a hard-working single mother who owns a small family-run diner in a small Texas town. She's fiercely protective of her teenage daughter, Sofia, and is always trying to balance work and family.</td>\n",
       "      <td>[-0.012487166561186314, -0.017634496092796326, -0.012305019423365593, -0.030033962801098824, -0.016878925263881683, 0.006715815514326096, -0.01276375912129879, 0.014463795349001884, -0.018686899915337563, -0.036780137568712234, 0.0189567469060421, 0.003501263912767172, 0.009471626952290535, 0.01...</td>\n",
       "      <td>0.216364</td>\n",
       "    </tr>\n",
       "  </tbody>\n",
       "</table>\n",
       "</div>"
      ],
      "text/plain": [
       "                                                                                                                                                                                                                                                                                                   text  \\\n",
       "0                          Emily, residing in England, who performs in a Play, A young woman in her early 20s, Emily is an aspiring actress and Alice's daughter. She has a bubbly personality and a quick wit, but struggles with self-doubt and insecurity. She's also in a relationship with George.   \n",
       "53                              Mrs. Mercer, residing in USA, who performs in a Sitcom, The matriarch of the wealthiest family in Williamsburg. Mrs. Mercer is a bit of a snob and enjoys reminding everyone of her social standing. She often hires Abigail to work in her home and is very demanding.   \n",
       "8   Maria, residing in Texas, who performs in a Movie, A middle-aged Latina woman in her 40s, Maria is a hard-working single mother who owns a small family-run diner in a small Texas town. She's fiercely protective of her teenage daughter, Sofia, and is always trying to balance work and family.   \n",
       "\n",
       "                                                                                                                                                                                                                                                                                                     embeddings  \\\n",
       "0   [-0.012010179460048676, -0.01708943024277687, -0.008300396613776684, -0.024174664169549942, -0.03551618382334709, 0.030269766226410866, -0.011727283708751202, 0.02576916292309761, -0.0065965973772108555, -0.012781711295247078, -0.005583961494266987, -0.007593159098178148, 0.015032012015581131, -...   \n",
       "53  [-0.015823304653167725, -0.014490398578345776, -0.012359069660305977, -0.03286074101924896, 0.015585756860673428, 0.031145120039582253, -0.007680702954530716, 0.001680978573858738, -0.01834394782781601, -0.02715959958732128, 0.014925902709364891, 0.005249140318483114, 0.006578746717423201, -0.00...   \n",
       "8   [-0.012487166561186314, -0.017634496092796326, -0.012305019423365593, -0.030033962801098824, -0.016878925263881683, 0.006715815514326096, -0.01276375912129879, 0.014463795349001884, -0.018686899915337563, -0.036780137568712234, 0.0189567469060421, 0.003501263912767172, 0.009471626952290535, 0.01...   \n",
       "\n",
       "    distances  \n",
       "0    0.214187  \n",
       "53   0.215965  \n",
       "8    0.216364  "
      ]
     },
     "execution_count": 14,
     "metadata": {},
     "output_type": "execute_result"
    }
   ],
   "source": [
    "question2 = \"Suggest two names of older female actresses who would be perfect for an American sitcom.\"\n",
    "sorted_df2 = get_rows_sorted_by_relevance(question2, df)\n",
    "sorted_df2.head(3)"
   ]
  },
  {
   "cell_type": "markdown",
   "id": "50c33034",
   "metadata": {},
   "source": [
    "## Context-Aware Prompt Generation\n",
    "\n",
    "Prompt creation is a strategic process of assembling the most relevant contextual information while respecting token limitations. The function leverages tiktoken for precise token management, systematically building a context that maximizes semantic relevance without overwhelming the language model.\n",
    "\n",
    "By sorting text rows based on semantic similarity and incrementally adding them to the context, the function ensures that the most pertinent information is included first. The separator \"###\" allows clear demarcation between different contextual snippets, enabling the model to distinguish between discrete pieces of information.\n",
    "\n",
    "The prompt template provides a structured approach to querying, explicitly instructing the model to either answer based on the given context or acknowledge insufficient information. This method transforms raw text data into a focused, context-rich prompt that enhances the likelihood of generating accurate and relevant responses."
   ]
  },
  {
   "cell_type": "code",
   "execution_count": 15,
   "id": "39543f8e",
   "metadata": {},
   "outputs": [],
   "source": [
    "import tiktoken\n",
    "\n",
    "prompt_template = \"\"\"\n",
    "Answer the question based on the context below, and if the question\n",
    "can't be answered based on the context, say \"I don't know\"\n",
    "\n",
    "Context: \n",
    "\n",
    "{}\n",
    "\n",
    "---\n",
    "\n",
    "Question: {}\n",
    "Answer:\"\"\"\n",
    "\n",
    "\n",
    "# =============================================================\n",
    "# =============================================================\n",
    "\n",
    "def create_prompt(question, df, max_token_count, prompt_template=prompt_template):\n",
    "    \"\"\"\n",
    "    Given a question and a dataframe containing rows of text and their\n",
    "    embeddings, return a text prompt to send to a Completion model\n",
    "    \"\"\"\n",
    "    # Create a tokenizer that is designed to align with our embeddings\n",
    "    tokenizer = tiktoken.get_encoding(\"cl100k_base\")\n",
    "\n",
    "    \n",
    "    current_token_count =   len(tokenizer.encode(prompt_template)) + \\\n",
    "                            len(tokenizer.encode(question))\n",
    "    \n",
    "    context = []\n",
    "    for text in get_rows_sorted_by_relevance(question, df)[\"text\"].values:\n",
    "        \n",
    "        # Increase the counter based on the number of tokens in this row\n",
    "        text_token_count     = len(tokenizer.encode(text))\n",
    "        current_token_count += text_token_count\n",
    "        \n",
    "        # Add the row of text to the list if we haven't exceeded the max\n",
    "        if current_token_count <= max_token_count:\n",
    "            context.append(text)\n",
    "        else:\n",
    "            break\n",
    "\n",
    "    return prompt_template.format(\"\\n\\n###\\n\\n\".join(context), question)\n",
    "    "
   ]
  },
  {
   "cell_type": "code",
   "execution_count": 26,
   "id": "04420d4b",
   "metadata": {},
   "outputs": [
    {
     "name": "stdout",
     "output_type": "stream",
     "text": [
      "\n",
      "Answer the question based on the context below, and if the question\n",
      "can't be answered based on the context, say \"I don't know\"\n",
      "\n",
      "Context: \n",
      "\n",
      "Captain James, residing in USA, who performs in a Sitcom, The charismatic and dashing captain of the local militia. Captain James is a ladies' man and enjoys flirting with the women of the town. He has a friendly rivalry with Reverend Brown and often teases him about his piousness.\n",
      "\n",
      "###\n",
      "\n",
      "James, residing in USA, who performs in a Reality Show, A handsome and athletic personal trainer, James is always up for a challenge. He's looking for someone who is as passionate about fitness as he is, and who can keep up with his intense workout regimen. He can sometimes come across as a bit too competitive, but his heart is always in the right place.\n",
      "\n",
      "###\n",
      "\n",
      "Jack, residing in England, who performs in a Play, A middle-aged man in his 40s, Jack is a successful businessman and Sarah's boss. He has a no-nonsense attitude, but is fiercely loyal to his friends and family. He's married to Alice.\n",
      "\n",
      "###\n",
      "\n",
      "John, residing in England, who performs in a Play, A man in his 60s, John is a retired professor and Tom's father. He has a dry wit and a love of intellectual debate, but can also be stubborn and set in his ways.\n",
      "\n",
      "---\n",
      "\n",
      "Question: What does Captain James's enjoy?\n",
      "Answer:\n"
     ]
    }
   ],
   "source": [
    "# create prompt for question 1\n",
    "max_token_count = 300\n",
    "print(create_prompt(question1, df, max_token_count))"
   ]
  },
  {
   "cell_type": "code",
   "execution_count": 17,
   "id": "961cef39",
   "metadata": {},
   "outputs": [
    {
     "name": "stdout",
     "output_type": "stream",
     "text": [
      "\n",
      "Answer the question based on the context below, and if the question\n",
      "can't be answered based on the context, say \"I don't know\"\n",
      "\n",
      "Context: \n",
      "\n",
      "Emily, residing in England, who performs in a Play, A young woman in her early 20s, Emily is an aspiring actress and Alice's daughter. She has a bubbly personality and a quick wit, but struggles with self-doubt and insecurity. She's also in a relationship with George.\n",
      "\n",
      "###\n",
      "\n",
      "Mrs. Mercer, residing in USA, who performs in a Sitcom, The matriarch of the wealthiest family in Williamsburg. Mrs. Mercer is a bit of a snob and enjoys reminding everyone of her social standing. She often hires Abigail to work in her home and is very demanding.\n",
      "\n",
      "###\n",
      "\n",
      "Maria, residing in Texas, who performs in a Movie, A middle-aged Latina woman in her 40s, Maria is a hard-working single mother who owns a small family-run diner in a small Texas town. She's fiercely protective of her teenage daughter, Sofia, and is always trying to balance work and family.\n",
      "\n",
      "---\n",
      "\n",
      "Question: Suggest two names of older female actresses who would be perfect for an American sitcom.\n",
      "Answer:\n"
     ]
    }
   ],
   "source": [
    "max_token_count = 300\n",
    "print(create_prompt(question2, df, max_token_count))"
   ]
  },
  {
   "cell_type": "markdown",
   "id": "2d615077",
   "metadata": {},
   "source": [
    "## Question Answering Function with Semantic Context\n",
    "\n",
    "### Function Purpose\n",
    "- Generate answers using OpenAI Completion model\n",
    "- Leverage semantically relevant context\n",
    "- Handle potential errors gracefully\n",
    "\n",
    "### Key Parameters\n",
    "- `question`: User's input query\n",
    "- `df`: DataFrame with text embeddings\n",
    "- `max_prompt_tokens`: Context token limit (default: 1800)\n",
    "- `max_answer_tokens`: Response length limit (default: 150)\n",
    "\n",
    "### Workflow\n",
    "1. Create context-enriched prompt\n",
    "2. Request model completion\n",
    "3. Return stripped response\n",
    "4. Handle exceptions by returning empty string\n",
    "\n",
    "### Model Configuration\n",
    "- Uses `gpt-3.5-turbo-instruct`\n",
    "- Dynamically generates context-aware prompts"
   ]
  },
  {
   "cell_type": "code",
   "execution_count": 18,
   "id": "c572bd58",
   "metadata": {},
   "outputs": [],
   "source": [
    "COMPLETION_MODEL_NAME = \"gpt-3.5-turbo-instruct\"\n",
    "\n",
    "def answer_question(question, df, max_prompt_tokens = 1800, max_answer_tokens = 150):\n",
    "    \"\"\"\n",
    "    Given a question, a dataframe containing rows of text, and a maximum\n",
    "    number of desired tokens in the prompt and response, return the\n",
    "    answer to the question according to an OpenAI Completion model\n",
    "    \n",
    "    If the model produces an error, return an empty string\n",
    "    \"\"\"\n",
    "    \n",
    "    prompt = create_prompt(question, df, max_prompt_tokens)\n",
    "    \n",
    "    try:\n",
    "        response = openai.Completion.create(\n",
    "                                            model      = COMPLETION_MODEL_NAME,\n",
    "                                            prompt     = prompt,\n",
    "                                            max_tokens = max_answer_tokens\n",
    "                                        )\n",
    "        return response[\"choices\"][0][\"text\"].strip()\n",
    "    except Exception as e:\n",
    "        print(e)\n",
    "        return \"\""
   ]
  },
  {
   "cell_type": "code",
   "execution_count": 19,
   "id": "4ceec1f3",
   "metadata": {},
   "outputs": [
    {
     "name": "stdout",
     "output_type": "stream",
     "text": [
      "Successful businessman.\n"
     ]
    }
   ],
   "source": [
    "answer1 = answer_question(question1, df)\n",
    "print(answer1)"
   ]
  },
  {
   "cell_type": "code",
   "execution_count": 20,
   "id": "458f6700",
   "metadata": {},
   "outputs": [
    {
     "name": "stdout",
     "output_type": "stream",
     "text": [
      "Mrs. Mercer and Donna.\n"
     ]
    }
   ],
   "source": [
    "answer2 = answer_question(question2, df)\n",
    "print(answer2)"
   ]
  },
  {
   "cell_type": "markdown",
   "id": "1783f146",
   "metadata": {},
   "source": [
    "## Query Performance Demonstration\n",
    "\n",
    "Comparative analysis of:\n",
    "- Standard language model responses\n",
    "- Custom context-enhanced responses\n",
    "- Measuring improvement in answer relevance and accuracy"
   ]
  },
  {
   "cell_type": "markdown",
   "id": "4f11fdc0",
   "metadata": {},
   "source": [
    "### Question 1"
   ]
  },
  {
   "cell_type": "code",
   "execution_count": 21,
   "id": "4901c850",
   "metadata": {},
   "outputs": [
    {
     "name": "stdout",
     "output_type": "stream",
     "text": [
      "Flirting with women and teasing Reverend Brown about his seriousness.\n"
     ]
    }
   ],
   "source": [
    "question1 = \"What does Captain James's enjoy?\"\n",
    "\n",
    "answer1 = openai.Completion.create(\n",
    "                                    model      = \"gpt-3.5-turbo-instruct\",\n",
    "                                    prompt     = f\"Based on this description: {df['text']}, {question1}\",\n",
    "                                    max_tokens = 150\n",
    "                                )[\"choices\"][0][\"text\"].strip()\n",
    "print(answer1)"
   ]
  },
  {
   "cell_type": "markdown",
   "id": "6e86e37c",
   "metadata": {},
   "source": [
    "### Question 2"
   ]
  },
  {
   "cell_type": "code",
   "execution_count": 22,
   "id": "6f646989",
   "metadata": {},
   "outputs": [
    {
     "name": "stdout",
     "output_type": "stream",
     "text": [
      "The setting for Sir Toby Belch's story takes place in Illyria, an ancient Greece setting.\n"
     ]
    }
   ],
   "source": [
    "question2 = \"In what setting does Sir Toby Belch's story take place?\"\n",
    "\n",
    "answer2   = openai.Completion.create(\n",
    "                                     model      = \"gpt-3.5-turbo-instruct\",\n",
    "                                     prompt     = f\"Based on this description: {df['text']}, {question2}\",\n",
    "                                     max_tokens = 150\n",
    "                                    )[\"choices\"][0][\"text\"].strip()\n",
    "print(answer2)"
   ]
  }
 ],
 "metadata": {
  "kernelspec": {
   "display_name": "Python 3 (ipykernel)",
   "language": "python",
   "name": "python3"
  },
  "language_info": {
   "codemirror_mode": {
    "name": "ipython",
    "version": 3
   },
   "file_extension": ".py",
   "mimetype": "text/x-python",
   "name": "python",
   "nbconvert_exporter": "python",
   "pygments_lexer": "ipython3",
   "version": "3.9.18"
  }
 },
 "nbformat": 4,
 "nbformat_minor": 5
}
